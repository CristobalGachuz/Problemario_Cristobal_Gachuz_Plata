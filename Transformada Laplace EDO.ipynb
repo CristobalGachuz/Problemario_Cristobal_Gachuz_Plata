{
  "cells": [
    {
      "cell_type": "code",
      "execution_count": 19,
      "metadata": {
        "colab": {
          "base_uri": "https://localhost:8080/"
        },
        "id": "8gl11lMoLS3Z",
        "outputId": "c0c013ad-39b9-4169-c804-37b9a71e1e2b"
      },
      "outputs": [
        {
          "output_type": "stream",
          "name": "stdout",
          "text": [
            "Requirement already satisfied: sympy in /usr/local/lib/python3.12/dist-packages (1.13.3)\n",
            "Requirement already satisfied: mpmath<1.4,>=1.1.0 in /usr/local/lib/python3.12/dist-packages (from sympy) (1.3.0)\n"
          ]
        }
      ],
      "source": [
        "# importando modulos necesarios\n",
        "%matplotlib inline\n",
        "\n",
        "!pip install sympy\n",
        "from IPython.display import display, Math\n",
        "\n",
        "import matplotlib.pyplot as plt\n",
        "import numpy as np\n",
        "import sympy\n",
        "from scipy import integrate\n",
        "\n",
        "# imprimir con notación matemática.\n",
        "sympy.init_printing(use_latex='mathjax')"
      ]
    },
    {
      "cell_type": "code",
      "execution_count": null,
      "metadata": {
        "id": "pqACuHoOLS3a",
        "outputId": "075710f1-dbdc-448e-c1cb-6503fc3c8a36"
      },
      "outputs": [
        {
          "data": {
            "text/latex": [
              "$$200 y{\\left (t \\right )} - 150 \\sin{\\left (10 t \\right )} + 20 \\frac{d}{d t} y{\\left (t \\right )} + \\frac{d^{2}}{d t^{2}} y{\\left (t \\right )} = 0$$"
            ],
            "text/plain": [
              "                                           2          \n",
              "                              d           d           \n",
              "200⋅y(t) - 150⋅sin(10⋅t) + 20⋅──(y(t)) + ───(y(t)) = 0\n",
              "                              dt           2          \n",
              "                                         dt           "
            ]
          },
          "execution_count": 2,
          "metadata": {},
          "output_type": "execute_result"
        }
      ],
      "source": [
        "# Ejemplo de transformada de Laplace\n",
        "# Defino las incognitas\n",
        "t = sympy.symbols(\"t\", positive=True)\n",
        "y = sympy.Function(\"y\")\n",
        "\n",
        "# Defino la ecuación\n",
        "edo =1*y(t).diff(t,t) + 20*y(t).diff(t) + (200)*y(t)-150*sympy.sin(10*t)\n",
        "sympy.Eq(edo)"
      ]
    },
    {
      "cell_type": "code",
      "execution_count": null,
      "metadata": {
        "id": "1Lgn5CtVLS3c"
      },
      "outputs": [],
      "source": [
        "# simbolos adicionales.\n",
        "s, Y = sympy.symbols(\"s, Y\", real=True)"
      ]
    },
    {
      "cell_type": "code",
      "execution_count": null,
      "metadata": {
        "id": "MQ3qHV0CLS3d",
        "outputId": "995a5641-6956-468b-bd40-8c5d5848d49a"
      },
      "outputs": [
        {
          "data": {
            "text/latex": [
              "$$200 \\mathcal{L}_{t}\\left[y{\\left (t \\right )}\\right]\\left(s\\right) + 20 \\mathcal{L}_{t}\\left[\\frac{d}{d t} y{\\left (t \\right )}\\right]\\left(s\\right) + \\mathcal{L}_{t}\\left[\\frac{d^{2}}{d t^{2}} y{\\left (t \\right )}\\right]\\left(s\\right) - \\frac{1500}{s^{2} + 100} = 0$$"
            ],
            "text/plain": [
              "                                                                              \n",
              "                                                      ⎛d             ⎞        \n",
              "200⋅LaplaceTransform(y(t), t, s) + 20⋅LaplaceTransform⎜──(y(t)), t, s⎟ + Lapla\n",
              "                                                      ⎝dt            ⎠        \n",
              "                                                                              \n",
              "\n",
              "           ⎛  2            ⎞               \n",
              "           ⎜ d             ⎟     1500      \n",
              "ceTransform⎜───(y(t)), t, s⎟ - ──────── = 0\n",
              "           ⎜  2            ⎟    2          \n",
              "           ⎝dt             ⎠   s  + 100    "
            ]
          },
          "execution_count": 4,
          "metadata": {},
          "output_type": "execute_result"
        }
      ],
      "source": [
        "# Calculo la transformada de Laplace\n",
        "L_edo = sympy.laplace_transform(edo, t, s, noconds=True)\n",
        "sympy.Eq(L_edo)"
      ]
    },
    {
      "cell_type": "code",
      "execution_count": null,
      "metadata": {
        "id": "-GqVbddCLS3e"
      },
      "outputs": [],
      "source": [
        "def laplace_transform_derivatives(e):\n",
        "    \"\"\"\n",
        "    Evalua las transformadas de Laplace de derivadas de funciones sin evaluar.\n",
        "    \"\"\"\n",
        "    if isinstance(e, sympy.LaplaceTransform):\n",
        "        if isinstance(e.args[0], sympy.Derivative):\n",
        "            d, t, s = e.args\n",
        "            n = len(d.args) - 1\n",
        "            return ((s**n) * sympy.LaplaceTransform(d.args[0], t, s) -\n",
        "                    sum([s**(n-i) * sympy.diff(d.args[0], t, i-1).subs(t, 0)\n",
        "                         for i in range(1, n+1)]))\n",
        "\n",
        "    if isinstance(e, (sympy.Add, sympy.Mul)):\n",
        "        t = type(e)\n",
        "        return t(*[laplace_transform_derivatives(arg) for arg in e.args])\n",
        "\n",
        "    return e"
      ]
    },
    {
      "cell_type": "code",
      "execution_count": null,
      "metadata": {
        "id": "CGu3TLQsLS3e"
      },
      "outputs": [],
      "source": [
        "# Aplicamos la nueva funcion para evaluar las transformadas de Laplace\n",
        "# de derivadas\n",
        "L_edo_2 = laplace_transform_derivatives(L_edo)\n",
        "sympy.Eq(L_edo_2)"
      ]
    },
    {
      "cell_type": "code",
      "execution_count": null,
      "metadata": {
        "id": "SWLFoV_6LS3f"
      },
      "outputs": [],
      "source": [
        "# reemplazamos la transfomada de Laplace de y(t) por la incognita Y\n",
        "# para facilitar la lectura de la ecuación.\n",
        "L_edo_3 = L_edo_2.subs(sympy.laplace_transform(y(t), t, s), Y)\n",
        "sympy.Eq(L_edo_3)"
      ]
    },
    {
      "cell_type": "code",
      "execution_count": null,
      "metadata": {
        "id": "NqTByk2lLS3g"
      },
      "outputs": [],
      "source": [
        "# Definimos las condiciones iniciales\n",
        "ics = {y(0): 0, y(t).diff(t).subs(t, 0): -3}\n",
        "ics"
      ]
    },
    {
      "cell_type": "code",
      "execution_count": null,
      "metadata": {
        "id": "OpwtkL6TLS3h"
      },
      "outputs": [],
      "source": [
        "# Aplicamos las condiciones iniciales\n",
        "L_edo_4 = L_edo_3.subs(ics)\n",
        "L_edo_4"
      ]
    },
    {
      "cell_type": "code",
      "execution_count": null,
      "metadata": {
        "id": "XTANeljBLS3h"
      },
      "outputs": [],
      "source": [
        "# Resolvemos la ecuación y arribamos a la Transformada de Laplace\n",
        "# que es equivalente a nuestra ecuación diferencial\n",
        "Y_sol = sympy.solve(L_edo_4, Y)\n",
        "Y_sol"
      ]
    },
    {
      "cell_type": "code",
      "execution_count": null,
      "metadata": {
        "id": "iOA6Q9LyLS3i"
      },
      "outputs": [],
      "source": [
        "# Por último, calculamos al inversa de la Transformada de Laplace que\n",
        "# obtuvimos arriba, para obtener la solución de nuestra ecuación diferencial.\n",
        "y_sol = sympy.inverse_laplace_transform(Y_sol[0], s, t)\n",
        "y_sol"
      ]
    },
    {
      "cell_type": "code",
      "execution_count": null,
      "metadata": {
        "id": "D4vc9Lb_LS3i"
      },
      "outputs": [],
      "source": [
        "# Comprobamos la solución.\n",
        "y_sol.subs(t, 0), sympy.diff(y_sol).subs(t, 0)"
      ]
    },
    {
      "cell_type": "markdown",
      "source": [
        "##Ejercicio 1"
      ],
      "metadata": {
        "id": "PFWkgHYjLfrF"
      }
    },
    {
      "cell_type": "code",
      "source": [
        "equation = r'f(t) = K'\n",
        "display(Math(equation))"
      ],
      "metadata": {
        "id": "pU9cuojzjwxN",
        "outputId": "5362ec3c-b182-4cec-9b60-b5c2d8417035",
        "colab": {
          "base_uri": "https://localhost:8080/",
          "height": 39
        }
      },
      "execution_count": 23,
      "outputs": [
        {
          "output_type": "display_data",
          "data": {
            "text/plain": [
              "<IPython.core.display.Math object>"
            ],
            "text/latex": "$\\displaystyle f(t) = K$"
          },
          "metadata": {}
        }
      ]
    },
    {
      "cell_type": "code",
      "execution_count": 5,
      "metadata": {
        "colab": {
          "base_uri": "https://localhost:8080/",
          "height": 58
        },
        "id": "EG4Lj4UVLS3i",
        "outputId": "4ea74a2c-3bf2-49f1-a01d-04a9a83ee8b9"
      },
      "outputs": [
        {
          "output_type": "execute_result",
          "data": {
            "text/plain": [
              "⎛k         ⎞\n",
              "⎜─, 0, True⎟\n",
              "⎝s         ⎠"
            ],
            "text/latex": "$\\displaystyle \\left( \\frac{k}{s}, \\  0, \\  \\text{True}\\right)$"
          },
          "metadata": {},
          "execution_count": 5
        }
      ],
      "source": [
        "\n",
        "t = sp.symbols('t')\n",
        "s = sp.symbols('s')\n",
        "k = sp.symbols('k')\n",
        "\n",
        "f_t = k\n",
        "\n",
        "L_f = sp.laplace_transform(f_t, t, s)\n",
        "\n",
        "L_f"
      ]
    },
    {
      "cell_type": "markdown",
      "source": [
        "##Ejercicio 2"
      ],
      "metadata": {
        "id": "HX-BWRg1Losc"
      }
    },
    {
      "cell_type": "code",
      "source": [
        "equation = r'f(t) = t'\n",
        "display(Math(equation))"
      ],
      "metadata": {
        "id": "fQ_DUkduj4Pn",
        "outputId": "1e3d65d2-6baf-47ca-9dcb-18a11c07a572",
        "colab": {
          "base_uri": "https://localhost:8080/",
          "height": 39
        }
      },
      "execution_count": 24,
      "outputs": [
        {
          "output_type": "display_data",
          "data": {
            "text/plain": [
              "<IPython.core.display.Math object>"
            ],
            "text/latex": "$\\displaystyle f(t) = t$"
          },
          "metadata": {}
        }
      ]
    },
    {
      "cell_type": "code",
      "source": [
        "\n",
        "t = sp.symbols('t')\n",
        "s = sp.symbols('s')\n",
        "\n",
        "f_t = sp.exp(-3 * t)\n",
        "\n",
        "L_f = sp.laplace_transform(f_t, t, s)\n",
        "\n",
        "L_f"
      ],
      "metadata": {
        "colab": {
          "base_uri": "https://localhost:8080/",
          "height": 58
        },
        "id": "nnuNwoJnLkuw",
        "outputId": "ec24f17d-0b76-457f-a6c1-03992762668a"
      },
      "execution_count": 7,
      "outputs": [
        {
          "output_type": "execute_result",
          "data": {
            "text/plain": [
              "⎛  1            ⎞\n",
              "⎜─────, -3, True⎟\n",
              "⎝s + 3          ⎠"
            ],
            "text/latex": "$\\displaystyle \\left( \\frac{1}{s + 3}, \\  -3, \\  \\text{True}\\right)$"
          },
          "metadata": {},
          "execution_count": 7
        }
      ]
    },
    {
      "cell_type": "markdown",
      "source": [
        "##Ejercico 3"
      ],
      "metadata": {
        "id": "_cXMefPsbPKf"
      }
    },
    {
      "cell_type": "code",
      "source": [
        "equation = r'f(t) = e^{-3 t}'\n",
        "display(Math(equation))"
      ],
      "metadata": {
        "id": "6QV-dXuLj8Dn",
        "outputId": "26ba9e1c-21b5-4842-deab-b0269aa73b43",
        "colab": {
          "base_uri": "https://localhost:8080/",
          "height": 39
        }
      },
      "execution_count": 25,
      "outputs": [
        {
          "output_type": "display_data",
          "data": {
            "text/plain": [
              "<IPython.core.display.Math object>"
            ],
            "text/latex": "$\\displaystyle f(t) = e^{-3 t}$"
          },
          "metadata": {}
        }
      ]
    },
    {
      "cell_type": "code",
      "source": [
        "\n",
        "t = sp.symbols('t')\n",
        "s = sp.symbols('s')\n",
        "\n",
        "f_t = sp.exp(-3 * t)\n",
        "\n",
        "L_f = sp.laplace_transform(f_t, t, s)\n",
        "\n",
        "L_f"
      ],
      "metadata": {
        "colab": {
          "base_uri": "https://localhost:8080/",
          "height": 58
        },
        "id": "G8qYLPO3LwNV",
        "outputId": "b21f90bd-7508-4ce8-fb16-fd9d515e1c65"
      },
      "execution_count": null,
      "outputs": [
        {
          "output_type": "execute_result",
          "data": {
            "text/plain": [
              "⎛  1            ⎞\n",
              "⎜─────, -3, True⎟\n",
              "⎝s + 3          ⎠"
            ],
            "text/latex": "$\\displaystyle \\left( \\frac{1}{s + 3}, \\  -3, \\  \\text{True}\\right)$"
          },
          "metadata": {},
          "execution_count": 8
        }
      ]
    },
    {
      "cell_type": "markdown",
      "source": [
        "##Ejercicio 4"
      ],
      "metadata": {
        "id": "1uEiX69CdZ6b"
      }
    },
    {
      "cell_type": "code",
      "source": [
        "equation = r'f(t) = e^{\\alpha t}'\n",
        "display(Math(equation))"
      ],
      "metadata": {
        "id": "ebzu8FHqkFaa",
        "outputId": "812d4e9b-dbfa-44c1-ec37-c78b028c0503",
        "colab": {
          "base_uri": "https://localhost:8080/",
          "height": 39
        }
      },
      "execution_count": 27,
      "outputs": [
        {
          "output_type": "display_data",
          "data": {
            "text/plain": [
              "<IPython.core.display.Math object>"
            ],
            "text/latex": "$\\displaystyle f(t) = e^{\\alpha t}$"
          },
          "metadata": {}
        }
      ]
    },
    {
      "cell_type": "code",
      "source": [
        "\n",
        "t = sp.symbols('t')\n",
        "s = sp.symbols('s')\n",
        "alpha = sp.symbols('alpha')\n",
        "\n",
        "f_t = sp.exp(alpha * t)\n",
        "\n",
        "L_f = sp.laplace_transform(f_t, t, s)\n",
        "\n",
        "L_f"
      ],
      "metadata": {
        "colab": {
          "base_uri": "https://localhost:8080/",
          "height": 58
        },
        "id": "8Rk5B2cCbdVN",
        "outputId": "0c8cdcf5-6ea5-4b53-f034-46b13550d347"
      },
      "execution_count": 8,
      "outputs": [
        {
          "output_type": "execute_result",
          "data": {
            "text/plain": [
              "⎛  1                ⎞\n",
              "⎜──────, re(α), True⎟\n",
              "⎝-α + s             ⎠"
            ],
            "text/latex": "$\\displaystyle \\left( \\frac{1}{- \\alpha + s}, \\  \\operatorname{re}{\\left(\\alpha\\right)}, \\  \\text{True}\\right)$"
          },
          "metadata": {},
          "execution_count": 8
        }
      ]
    },
    {
      "cell_type": "markdown",
      "source": [
        "##Ejercicio 5"
      ],
      "metadata": {
        "id": "Gmqj0wM6dTrV"
      }
    },
    {
      "cell_type": "code",
      "source": [
        "equation = r'f(t) = sin(2t)'\n",
        "display(Math(equation))"
      ],
      "metadata": {
        "id": "GJKmJYJwkboq",
        "outputId": "a01515d6-d8ca-45a9-de7b-7e3d0a35e598",
        "colab": {
          "base_uri": "https://localhost:8080/",
          "height": 39
        }
      },
      "execution_count": 28,
      "outputs": [
        {
          "output_type": "display_data",
          "data": {
            "text/plain": [
              "<IPython.core.display.Math object>"
            ],
            "text/latex": "$\\displaystyle f(t) = sin(2t)$"
          },
          "metadata": {}
        }
      ]
    },
    {
      "cell_type": "code",
      "source": [
        "\n",
        "t = sp.symbols('t')\n",
        "s = sp.symbols('s')\n",
        "\n",
        "f_t = sp.sin(2 * t)\n",
        "\n",
        "L_f = sp.laplace_transform(f_t, t, s)\n",
        "\n",
        "L_f"
      ],
      "metadata": {
        "id": "mO2lIXBSbxUY",
        "outputId": "512b14f0-e293-402c-81ee-edbf9dd5e924",
        "colab": {
          "base_uri": "https://localhost:8080/",
          "height": 58
        }
      },
      "execution_count": 9,
      "outputs": [
        {
          "output_type": "execute_result",
          "data": {
            "text/plain": [
              "⎛  2            ⎞\n",
              "⎜──────, 0, True⎟\n",
              "⎜ 2             ⎟\n",
              "⎝s  + 4         ⎠"
            ],
            "text/latex": "$\\displaystyle \\left( \\frac{2}{s^{2} + 4}, \\  0, \\  \\text{True}\\right)$"
          },
          "metadata": {},
          "execution_count": 9
        }
      ]
    },
    {
      "cell_type": "markdown",
      "source": [
        "## Ejercicio 6"
      ],
      "metadata": {
        "id": "QoWM7OtOee_L"
      }
    },
    {
      "cell_type": "code",
      "source": [
        "equation = r'f(t) = 1 + 5t'\n",
        "display(Math(equation))"
      ],
      "metadata": {
        "id": "M1qsYSV2kre-",
        "outputId": "28341f93-1b18-4eb5-81f2-772baf98a1da",
        "colab": {
          "base_uri": "https://localhost:8080/",
          "height": 39
        }
      },
      "execution_count": 30,
      "outputs": [
        {
          "output_type": "display_data",
          "data": {
            "text/plain": [
              "<IPython.core.display.Math object>"
            ],
            "text/latex": "$\\displaystyle f(t) = 1 + 5t$"
          },
          "metadata": {}
        }
      ]
    },
    {
      "cell_type": "code",
      "source": [
        "\n",
        "t = sp.symbols('t')\n",
        "s = sp.symbols('s')\n",
        "\n",
        "f_t = 1 + 5 * t\n",
        "\n",
        "L_f = sp.laplace_transform(f_t, t, s)\n",
        "\n",
        "L_f"
      ],
      "metadata": {
        "id": "AJy5eke9dqSf",
        "outputId": "e05d4e7f-ba1f-4553-dbcb-74f04c63fc30",
        "colab": {
          "base_uri": "https://localhost:8080/",
          "height": 58
        }
      },
      "execution_count": 11,
      "outputs": [
        {
          "output_type": "execute_result",
          "data": {
            "text/plain": [
              "⎛1   5          ⎞\n",
              "⎜─ + ──, 0, True⎟\n",
              "⎜s    2         ⎟\n",
              "⎝    s          ⎠"
            ],
            "text/latex": "$\\displaystyle \\left( \\frac{1}{s} + \\frac{5}{s^{2}}, \\  0, \\  \\text{True}\\right)$"
          },
          "metadata": {},
          "execution_count": 11
        }
      ]
    },
    {
      "cell_type": "markdown",
      "source": [
        "## Ejercicio 7"
      ],
      "metadata": {
        "id": "-L6w9hwreip7"
      }
    },
    {
      "cell_type": "code",
      "source": [
        "equation = r'f(t) = 5 e^{-3}-2 sin(2t)'\n",
        "display(Math(equation))"
      ],
      "metadata": {
        "id": "DN5ksCIckyBQ",
        "outputId": "d39905c3-55f8-4843-eb38-d1d622309d71",
        "colab": {
          "base_uri": "https://localhost:8080/",
          "height": 39
        }
      },
      "execution_count": 31,
      "outputs": [
        {
          "output_type": "display_data",
          "data": {
            "text/plain": [
              "<IPython.core.display.Math object>"
            ],
            "text/latex": "$\\displaystyle f(t) = 5 e^{-3}-2 sin(2t)$"
          },
          "metadata": {}
        }
      ]
    },
    {
      "cell_type": "code",
      "source": [
        "\n",
        "t = sp.symbols('t')\n",
        "s = sp.symbols('s')\n",
        "\n",
        "f_t = 5 * sp.exp(-3 * t) - 2 * sp.sin(2 * t)\n",
        "\n",
        "L_f = sp.laplace_transform(f_t, t, s)\n",
        "\n",
        "L_f"
      ],
      "metadata": {
        "id": "10ec43WZdvrc",
        "outputId": "a40392d0-bde5-478c-fd99-03404b07fa9a",
        "colab": {
          "base_uri": "https://localhost:8080/",
          "height": 58
        }
      },
      "execution_count": 12,
      "outputs": [
        {
          "output_type": "execute_result",
          "data": {
            "text/plain": [
              "⎛    4        5           ⎞\n",
              "⎜- ────── + ─────, 0, True⎟\n",
              "⎜   2       s + 3         ⎟\n",
              "⎝  s  + 4                 ⎠"
            ],
            "text/latex": "$\\displaystyle \\left( - \\frac{4}{s^{2} + 4} + \\frac{5}{s + 3}, \\  0, \\  \\text{True}\\right)$"
          },
          "metadata": {},
          "execution_count": 12
        }
      ]
    },
    {
      "cell_type": "markdown",
      "source": [
        "## Ejercicio 8"
      ],
      "metadata": {
        "id": "Z9M8eyEGek_-"
      }
    },
    {
      "cell_type": "code",
      "source": [
        "equation = r'f(t) = t * cos(2t)'\n",
        "display(Math(equation))"
      ],
      "metadata": {
        "id": "6fRQQLAQk-2s",
        "outputId": "b79606ea-4d59-4755-a2dd-c7eae7ff0d23",
        "colab": {
          "base_uri": "https://localhost:8080/",
          "height": 39
        }
      },
      "execution_count": 32,
      "outputs": [
        {
          "output_type": "display_data",
          "data": {
            "text/plain": [
              "<IPython.core.display.Math object>"
            ],
            "text/latex": "$\\displaystyle f(t) = t * cos(2t)$"
          },
          "metadata": {}
        }
      ]
    },
    {
      "cell_type": "code",
      "source": [
        "\n",
        "t = sp.symbols('t')\n",
        "s = sp.symbols('s')\n",
        "\n",
        "f_t = t * sp.cos(t)\n",
        "\n",
        "L_f = sp.laplace_transform(f_t, t, s)\n",
        "\n",
        "L_f"
      ],
      "metadata": {
        "id": "Q3VpSP1_dyXJ",
        "outputId": "97408f21-332d-43f2-fcb8-e0fd6ee7e728",
        "colab": {
          "base_uri": "https://localhost:8080/",
          "height": 68
        }
      },
      "execution_count": 13,
      "outputs": [
        {
          "output_type": "execute_result",
          "data": {
            "text/plain": [
              "⎛    1            1              ⎞\n",
              "⎜────────── + ──────────, 0, True⎟\n",
              "⎜         2            2         ⎟\n",
              "⎝2⋅(s + ⅈ)    2⋅(s - ⅈ)          ⎠"
            ],
            "text/latex": "$\\displaystyle \\left( \\frac{1}{2 \\left(s + i\\right)^{2}} + \\frac{1}{2 \\left(s - i\\right)^{2}}, \\  0, \\  \\text{True}\\right)$"
          },
          "metadata": {},
          "execution_count": 13
        }
      ]
    },
    {
      "cell_type": "markdown",
      "source": [
        "## Ejercicio 9"
      ],
      "metadata": {
        "id": "iMoh3A1AenPV"
      }
    },
    {
      "cell_type": "code",
      "source": [
        "equation = r'f(t) = e^{-t} * sen(t)'\n",
        "display(Math(equation))"
      ],
      "metadata": {
        "id": "zS3TZIUllFha",
        "outputId": "d69109da-a831-4226-8a03-8e3a0d095ae5",
        "colab": {
          "base_uri": "https://localhost:8080/",
          "height": 39
        }
      },
      "execution_count": 34,
      "outputs": [
        {
          "output_type": "display_data",
          "data": {
            "text/plain": [
              "<IPython.core.display.Math object>"
            ],
            "text/latex": "$\\displaystyle f(t) = e^{-t} * sen(t)$"
          },
          "metadata": {}
        }
      ]
    },
    {
      "cell_type": "code",
      "source": [
        "\n",
        "t = sp.symbols('t')\n",
        "s = sp.symbols('s')\n",
        "\n",
        "f_t = sp.exp(-t) * sp.sin(t)\n",
        "\n",
        "L_f = sp.laplace_transform(f_t, t, s)\n",
        "\n",
        "L_f"
      ],
      "metadata": {
        "id": "HOp27uzFd0xm",
        "outputId": "6f2a79dc-f75c-4a0b-e622-31629b4fbe80",
        "colab": {
          "base_uri": "https://localhost:8080/",
          "height": 68
        }
      },
      "execution_count": 14,
      "outputs": [
        {
          "output_type": "execute_result",
          "data": {
            "text/plain": [
              "⎛     1                ⎞\n",
              "⎜────────────, -1, True⎟\n",
              "⎜       2              ⎟\n",
              "⎝(s + 1)  + 1          ⎠"
            ],
            "text/latex": "$\\displaystyle \\left( \\frac{1}{\\left(s + 1\\right)^{2} + 1}, \\  -1, \\  \\text{True}\\right)$"
          },
          "metadata": {},
          "execution_count": 14
        }
      ]
    },
    {
      "cell_type": "markdown",
      "source": [
        "## Ejercicio 10"
      ],
      "metadata": {
        "id": "5IipmId6epJb"
      }
    },
    {
      "cell_type": "code",
      "source": [
        "equation5 = r'f(t) = \\frac{1 + \\cos(2t)}{2}'\n",
        "display(Math(equation5))"
      ],
      "metadata": {
        "id": "YLSMxa-NlPq_",
        "outputId": "5e05e23c-ef7c-4443-995f-0ed7499f7ee7",
        "colab": {
          "base_uri": "https://localhost:8080/",
          "height": 53
        }
      },
      "execution_count": 38,
      "outputs": [
        {
          "output_type": "display_data",
          "data": {
            "text/plain": [
              "<IPython.core.display.Math object>"
            ],
            "text/latex": "$\\displaystyle f(t) = \\frac{1 + \\cos(2t)}{2}$"
          },
          "metadata": {}
        }
      ]
    },
    {
      "cell_type": "code",
      "source": [
        "\n",
        "t = sp.symbols('t')\n",
        "s = sp.symbols('s')\n",
        "\n",
        "f_t = (1 + sp.cos(2 * t)) / 2\n",
        "\n",
        "L_f = sp.laplace_transform(f_t, t, s)\n",
        "\n",
        "L_f"
      ],
      "metadata": {
        "id": "PcIoI983d3f5",
        "outputId": "6763d775-ad31-4921-dc07-0980397edd3f",
        "colab": {
          "base_uri": "https://localhost:8080/",
          "height": 58
        }
      },
      "execution_count": 15,
      "outputs": [
        {
          "output_type": "execute_result",
          "data": {
            "text/plain": [
              "⎛    s         1          ⎞\n",
              "⎜────────── + ───, 0, True⎟\n",
              "⎜  ⎛ 2    ⎞   2⋅s         ⎟\n",
              "⎝2⋅⎝s  + 4⎠               ⎠"
            ],
            "text/latex": "$\\displaystyle \\left( \\frac{s}{2 \\left(s^{2} + 4\\right)} + \\frac{1}{2 s}, \\  0, \\  \\text{True}\\right)$"
          },
          "metadata": {},
          "execution_count": 15
        }
      ]
    },
    {
      "cell_type": "markdown",
      "source": [
        "## Ejercicio 11"
      ],
      "metadata": {
        "id": "Mvg0L49neqzw"
      }
    },
    {
      "cell_type": "code",
      "source": [
        "equation = r'f(t) = cos^{2}(t)'\n",
        "display(Math(equation))"
      ],
      "metadata": {
        "id": "jGKou2wLldyB",
        "outputId": "b205dc53-e4e8-48c5-b20f-d37ae54ecf0c",
        "colab": {
          "base_uri": "https://localhost:8080/",
          "height": 39
        }
      },
      "execution_count": 37,
      "outputs": [
        {
          "output_type": "display_data",
          "data": {
            "text/plain": [
              "<IPython.core.display.Math object>"
            ],
            "text/latex": "$\\displaystyle f(t) = cos^{2}(t)$"
          },
          "metadata": {}
        }
      ]
    },
    {
      "cell_type": "code",
      "source": [
        "\n",
        "t = sp.symbols('t')\n",
        "s = sp.symbols('s')\n",
        "\n",
        "f_t = sp.cos(t)**2\n",
        "\n",
        "L_f = sp.laplace_transform(f_t, t, s)\n",
        "\n",
        "L_f"
      ],
      "metadata": {
        "id": "mU06N5Q_d58F",
        "outputId": "f38fba1e-2662-48cf-85bd-5fa7a83cfb08",
        "colab": {
          "base_uri": "https://localhost:8080/",
          "height": 58
        }
      },
      "execution_count": 16,
      "outputs": [
        {
          "output_type": "execute_result",
          "data": {
            "text/plain": [
              "⎛   2               ⎞\n",
              "⎜  s  + 2           ⎟\n",
              "⎜──────────, 0, True⎟\n",
              "⎜  ⎛ 2    ⎞         ⎟\n",
              "⎝s⋅⎝s  + 4⎠         ⎠"
            ],
            "text/latex": "$\\displaystyle \\left( \\frac{s^{2} + 2}{s \\left(s^{2} + 4\\right)}, \\  0, \\  \\text{True}\\right)$"
          },
          "metadata": {},
          "execution_count": 16
        }
      ]
    },
    {
      "cell_type": "markdown",
      "source": [
        "## Ejercicio 12"
      ],
      "metadata": {
        "id": "jelRHXAuesJJ"
      }
    },
    {
      "cell_type": "code",
      "source": [
        "equation = r'f(t) = t^2 e^{\\alpha t}'\n",
        "display(Math(equation))"
      ],
      "metadata": {
        "id": "GFpgxezLjad1",
        "outputId": "eeba6f7c-0959-4c7c-8666-bcb6556625e7",
        "colab": {
          "base_uri": "https://localhost:8080/",
          "height": 39
        }
      },
      "execution_count": 21,
      "outputs": [
        {
          "output_type": "display_data",
          "data": {
            "text/plain": [
              "<IPython.core.display.Math object>"
            ],
            "text/latex": "$\\displaystyle f(t) = t^2 e^{\\alpha t}$"
          },
          "metadata": {}
        }
      ]
    },
    {
      "cell_type": "code",
      "source": [
        "\n",
        "t = sp.symbols('t')\n",
        "s = sp.symbols('s')\n",
        "alpha = sp.symbols('alpha')\n",
        "\n",
        "f_t = t**2 * sp.exp(alpha * t)\n",
        "\n",
        "L_f = sp.laplace_transform(f_t, t, s)\n",
        "\n",
        "L_f"
      ],
      "metadata": {
        "id": "g362QeXQeY5p",
        "outputId": "14f13811-7b42-46c1-a51a-5e1fc76d28b0",
        "colab": {
          "base_uri": "https://localhost:8080/",
          "height": 68
        }
      },
      "execution_count": 17,
      "outputs": [
        {
          "output_type": "execute_result",
          "data": {
            "text/plain": [
              "⎛    2                 ⎞\n",
              "⎜─────────, re(α), True⎟\n",
              "⎜        3             ⎟\n",
              "⎝(-α + s)              ⎠"
            ],
            "text/latex": "$\\displaystyle \\left( \\frac{2}{\\left(- \\alpha + s\\right)^{3}}, \\  \\operatorname{re}{\\left(\\alpha\\right)}, \\  \\text{True}\\right)$"
          },
          "metadata": {},
          "execution_count": 17
        }
      ]
    }
  ],
  "metadata": {
    "kernelspec": {
      "display_name": "Python 3",
      "language": "python",
      "name": "python3"
    },
    "language_info": {
      "codemirror_mode": {
        "name": "ipython",
        "version": 3
      },
      "file_extension": ".py",
      "mimetype": "text/x-python",
      "name": "python",
      "nbconvert_exporter": "python",
      "pygments_lexer": "ipython3",
      "version": "3.7.1"
    },
    "colab": {
      "provenance": []
    }
  },
  "nbformat": 4,
  "nbformat_minor": 0
}