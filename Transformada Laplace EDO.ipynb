{
  "cells": [
    {
      "cell_type": "code",
      "execution_count": 7,
      "metadata": {
        "colab": {
          "base_uri": "https://localhost:8080/"
        },
        "id": "8gl11lMoLS3Z",
        "outputId": "ee09cb6c-620a-4011-a2a5-68ab6532a598"
      },
      "outputs": [
        {
          "output_type": "stream",
          "name": "stdout",
          "text": [
            "Requirement already satisfied: sympy in /usr/local/lib/python3.12/dist-packages (1.13.3)\n",
            "Requirement already satisfied: mpmath<1.4,>=1.1.0 in /usr/local/lib/python3.12/dist-packages (from sympy) (1.3.0)\n"
          ]
        }
      ],
      "source": [
        "# importando modulos necesarios\n",
        "%matplotlib inline\n",
        "\n",
        "!pip install sympy\n",
        "\n",
        "import matplotlib.pyplot as plt\n",
        "import numpy as np\n",
        "import sympy\n",
        "from scipy import integrate\n",
        "\n",
        "# imprimir con notación matemática.\n",
        "sympy.init_printing(use_latex='mathjax')"
      ]
    },
    {
      "cell_type": "code",
      "execution_count": null,
      "metadata": {
        "id": "pqACuHoOLS3a",
        "outputId": "075710f1-dbdc-448e-c1cb-6503fc3c8a36"
      },
      "outputs": [
        {
          "data": {
            "text/latex": [
              "$$200 y{\\left (t \\right )} - 150 \\sin{\\left (10 t \\right )} + 20 \\frac{d}{d t} y{\\left (t \\right )} + \\frac{d^{2}}{d t^{2}} y{\\left (t \\right )} = 0$$"
            ],
            "text/plain": [
              "                                           2          \n",
              "                              d           d           \n",
              "200⋅y(t) - 150⋅sin(10⋅t) + 20⋅──(y(t)) + ───(y(t)) = 0\n",
              "                              dt           2          \n",
              "                                         dt           "
            ]
          },
          "execution_count": 2,
          "metadata": {},
          "output_type": "execute_result"
        }
      ],
      "source": [
        "# Ejemplo de transformada de Laplace\n",
        "# Defino las incognitas\n",
        "t = sympy.symbols(\"t\", positive=True)\n",
        "y = sympy.Function(\"y\")\n",
        "\n",
        "# Defino la ecuación\n",
        "edo =1*y(t).diff(t,t) + 20*y(t).diff(t) + (200)*y(t)-150*sympy.sin(10*t)\n",
        "sympy.Eq(edo)"
      ]
    },
    {
      "cell_type": "code",
      "execution_count": null,
      "metadata": {
        "id": "1Lgn5CtVLS3c"
      },
      "outputs": [],
      "source": [
        "# simbolos adicionales.\n",
        "s, Y = sympy.symbols(\"s, Y\", real=True)"
      ]
    },
    {
      "cell_type": "code",
      "execution_count": null,
      "metadata": {
        "id": "MQ3qHV0CLS3d",
        "outputId": "995a5641-6956-468b-bd40-8c5d5848d49a"
      },
      "outputs": [
        {
          "data": {
            "text/latex": [
              "$$200 \\mathcal{L}_{t}\\left[y{\\left (t \\right )}\\right]\\left(s\\right) + 20 \\mathcal{L}_{t}\\left[\\frac{d}{d t} y{\\left (t \\right )}\\right]\\left(s\\right) + \\mathcal{L}_{t}\\left[\\frac{d^{2}}{d t^{2}} y{\\left (t \\right )}\\right]\\left(s\\right) - \\frac{1500}{s^{2} + 100} = 0$$"
            ],
            "text/plain": [
              "                                                                              \n",
              "                                                      ⎛d             ⎞        \n",
              "200⋅LaplaceTransform(y(t), t, s) + 20⋅LaplaceTransform⎜──(y(t)), t, s⎟ + Lapla\n",
              "                                                      ⎝dt            ⎠        \n",
              "                                                                              \n",
              "\n",
              "           ⎛  2            ⎞               \n",
              "           ⎜ d             ⎟     1500      \n",
              "ceTransform⎜───(y(t)), t, s⎟ - ──────── = 0\n",
              "           ⎜  2            ⎟    2          \n",
              "           ⎝dt             ⎠   s  + 100    "
            ]
          },
          "execution_count": 4,
          "metadata": {},
          "output_type": "execute_result"
        }
      ],
      "source": [
        "# Calculo la transformada de Laplace\n",
        "L_edo = sympy.laplace_transform(edo, t, s, noconds=True)\n",
        "sympy.Eq(L_edo)"
      ]
    },
    {
      "cell_type": "code",
      "execution_count": null,
      "metadata": {
        "id": "-GqVbddCLS3e"
      },
      "outputs": [],
      "source": [
        "def laplace_transform_derivatives(e):\n",
        "    \"\"\"\n",
        "    Evalua las transformadas de Laplace de derivadas de funciones sin evaluar.\n",
        "    \"\"\"\n",
        "    if isinstance(e, sympy.LaplaceTransform):\n",
        "        if isinstance(e.args[0], sympy.Derivative):\n",
        "            d, t, s = e.args\n",
        "            n = len(d.args) - 1\n",
        "            return ((s**n) * sympy.LaplaceTransform(d.args[0], t, s) -\n",
        "                    sum([s**(n-i) * sympy.diff(d.args[0], t, i-1).subs(t, 0)\n",
        "                         for i in range(1, n+1)]))\n",
        "\n",
        "    if isinstance(e, (sympy.Add, sympy.Mul)):\n",
        "        t = type(e)\n",
        "        return t(*[laplace_transform_derivatives(arg) for arg in e.args])\n",
        "\n",
        "    return e"
      ]
    },
    {
      "cell_type": "code",
      "execution_count": null,
      "metadata": {
        "id": "CGu3TLQsLS3e"
      },
      "outputs": [],
      "source": [
        "# Aplicamos la nueva funcion para evaluar las transformadas de Laplace\n",
        "# de derivadas\n",
        "L_edo_2 = laplace_transform_derivatives(L_edo)\n",
        "sympy.Eq(L_edo_2)"
      ]
    },
    {
      "cell_type": "code",
      "execution_count": null,
      "metadata": {
        "id": "SWLFoV_6LS3f"
      },
      "outputs": [],
      "source": [
        "# reemplazamos la transfomada de Laplace de y(t) por la incognita Y\n",
        "# para facilitar la lectura de la ecuación.\n",
        "L_edo_3 = L_edo_2.subs(sympy.laplace_transform(y(t), t, s), Y)\n",
        "sympy.Eq(L_edo_3)"
      ]
    },
    {
      "cell_type": "code",
      "execution_count": null,
      "metadata": {
        "id": "NqTByk2lLS3g"
      },
      "outputs": [],
      "source": [
        "# Definimos las condiciones iniciales\n",
        "ics = {y(0): 0, y(t).diff(t).subs(t, 0): -3}\n",
        "ics"
      ]
    },
    {
      "cell_type": "code",
      "execution_count": null,
      "metadata": {
        "id": "OpwtkL6TLS3h"
      },
      "outputs": [],
      "source": [
        "# Aplicamos las condiciones iniciales\n",
        "L_edo_4 = L_edo_3.subs(ics)\n",
        "L_edo_4"
      ]
    },
    {
      "cell_type": "code",
      "execution_count": null,
      "metadata": {
        "id": "XTANeljBLS3h"
      },
      "outputs": [],
      "source": [
        "# Resolvemos la ecuación y arribamos a la Transformada de Laplace\n",
        "# que es equivalente a nuestra ecuación diferencial\n",
        "Y_sol = sympy.solve(L_edo_4, Y)\n",
        "Y_sol"
      ]
    },
    {
      "cell_type": "code",
      "execution_count": null,
      "metadata": {
        "id": "iOA6Q9LyLS3i"
      },
      "outputs": [],
      "source": [
        "# Por último, calculamos al inversa de la Transformada de Laplace que\n",
        "# obtuvimos arriba, para obtener la solución de nuestra ecuación diferencial.\n",
        "y_sol = sympy.inverse_laplace_transform(Y_sol[0], s, t)\n",
        "y_sol"
      ]
    },
    {
      "cell_type": "code",
      "execution_count": null,
      "metadata": {
        "id": "D4vc9Lb_LS3i"
      },
      "outputs": [],
      "source": [
        "# Comprobamos la solución.\n",
        "y_sol.subs(t, 0), sympy.diff(y_sol).subs(t, 0)"
      ]
    },
    {
      "cell_type": "markdown",
      "source": [
        "##Ejercicio 1"
      ],
      "metadata": {
        "id": "PFWkgHYjLfrF"
      }
    },
    {
      "cell_type": "code",
      "execution_count": 70,
      "metadata": {
        "colab": {
          "base_uri": "https://localhost:8080/",
          "height": 58
        },
        "id": "EG4Lj4UVLS3i",
        "outputId": "f953151c-8b9c-456d-bcf0-1c48656279e5"
      },
      "outputs": [
        {
          "output_type": "execute_result",
          "data": {
            "text/plain": [
              "⎛k         ⎞\n",
              "⎜─, 0, True⎟\n",
              "⎝s         ⎠"
            ],
            "text/latex": "$\\displaystyle \\left( \\frac{k}{s}, \\  0, \\  \\text{True}\\right)$"
          },
          "metadata": {},
          "execution_count": 70
        }
      ],
      "source": [
        "\n",
        "t = sp.symbols('t')\n",
        "s = sp.symbols('s')\n",
        "k = sp.symbols('k')\n",
        "\n",
        "f_t = k\n",
        "\n",
        "L_f = sp.laplace_transform(f_t, t, s)\n",
        "\n",
        "L_f"
      ]
    },
    {
      "cell_type": "markdown",
      "source": [
        "##Ejercicio 2"
      ],
      "metadata": {
        "id": "HX-BWRg1Losc"
      }
    },
    {
      "cell_type": "code",
      "source": [
        "\n",
        "t = sp.symbols('t')\n",
        "s = sp.symbols('s')\n",
        "\n",
        "f_t = t\n",
        "\n",
        "L_f = sp.laplace_transform(f_t, t, s)\n",
        "\n",
        "L_f"
      ],
      "metadata": {
        "colab": {
          "base_uri": "https://localhost:8080/",
          "height": 58
        },
        "id": "nnuNwoJnLkuw",
        "outputId": "76848135-ff3b-4c0d-f89c-f01ab8432bcb"
      },
      "execution_count": 71,
      "outputs": [
        {
          "output_type": "execute_result",
          "data": {
            "text/plain": [
              "⎛1          ⎞\n",
              "⎜──, 0, True⎟\n",
              "⎜ 2         ⎟\n",
              "⎝s          ⎠"
            ],
            "text/latex": "$\\displaystyle \\left( \\frac{1}{s^{2}}, \\  0, \\  \\text{True}\\right)$"
          },
          "metadata": {},
          "execution_count": 71
        }
      ]
    },
    {
      "cell_type": "markdown",
      "source": [
        "##Ejercico 3"
      ],
      "metadata": {
        "id": "_cXMefPsbPKf"
      }
    },
    {
      "cell_type": "code",
      "source": [
        "\n",
        "t = sp.symbols('t')\n",
        "s = sp.symbols('s')\n",
        "\n",
        "f_t = sp.exp(-3 * t)\n",
        "\n",
        "L_f = sp.laplace_transform(f_t, t, s)\n",
        "\n",
        "L_f"
      ],
      "metadata": {
        "colab": {
          "base_uri": "https://localhost:8080/",
          "height": 58
        },
        "id": "G8qYLPO3LwNV",
        "outputId": "b21f90bd-7508-4ce8-fb16-fd9d515e1c65"
      },
      "execution_count": 8,
      "outputs": [
        {
          "output_type": "execute_result",
          "data": {
            "text/plain": [
              "⎛  1            ⎞\n",
              "⎜─────, -3, True⎟\n",
              "⎝s + 3          ⎠"
            ],
            "text/latex": "$\\displaystyle \\left( \\frac{1}{s + 3}, \\  -3, \\  \\text{True}\\right)$"
          },
          "metadata": {},
          "execution_count": 8
        }
      ]
    },
    {
      "cell_type": "markdown",
      "source": [
        "##Ejercicio 4"
      ],
      "metadata": {
        "id": "1uEiX69CdZ6b"
      }
    },
    {
      "cell_type": "code",
      "source": [
        "\n",
        "t = sp.symbols('t')\n",
        "s = sp.symbols('s')\n",
        "alpha = sp.symbols('alpha')  # alpha es una constante\n",
        "\n",
        "f_t = sp.exp(alpha * t)\n",
        "\n",
        "L_f = sp.laplace_transform(f_t, t, s)\n",
        "\n",
        "L_f"
      ],
      "metadata": {
        "colab": {
          "base_uri": "https://localhost:8080/",
          "height": 58
        },
        "id": "8Rk5B2cCbdVN",
        "outputId": "ab5d2a7c-9db3-4b0b-b64b-f286daeef2d8"
      },
      "execution_count": 10,
      "outputs": [
        {
          "output_type": "execute_result",
          "data": {
            "text/plain": [
              "⎛  1                ⎞\n",
              "⎜──────, re(α), True⎟\n",
              "⎝-α + s             ⎠"
            ],
            "text/latex": "$\\displaystyle \\left( \\frac{1}{- \\alpha + s}, \\  \\operatorname{re}{\\left(\\alpha\\right)}, \\  \\text{True}\\right)$"
          },
          "metadata": {},
          "execution_count": 10
        }
      ]
    },
    {
      "cell_type": "markdown",
      "source": [
        "##Ejercicio 5"
      ],
      "metadata": {
        "id": "Gmqj0wM6dTrV"
      }
    },
    {
      "cell_type": "code",
      "source": [
        "\n",
        "t = sp.symbols('t')\n",
        "s = sp.symbols('s')\n",
        "\n",
        "# Definimos la función f(t) = sin(2t)\n",
        "f_t = sp.sin(2 * t)\n",
        "\n",
        "# Calculamos la transformada de Laplace\n",
        "L_f = sp.laplace_transform(f_t, t, s)\n",
        "\n",
        "# Mostramos el resultado\n",
        "L_f"
      ],
      "metadata": {
        "id": "mO2lIXBSbxUY",
        "outputId": "84fed6ee-940e-4b0b-968b-038c7f588408",
        "colab": {
          "base_uri": "https://localhost:8080/",
          "height": 58
        }
      },
      "execution_count": 13,
      "outputs": [
        {
          "output_type": "execute_result",
          "data": {
            "text/plain": [
              "⎛  2            ⎞\n",
              "⎜──────, 0, True⎟\n",
              "⎜ 2             ⎟\n",
              "⎝s  + 4         ⎠"
            ],
            "text/latex": "$\\displaystyle \\left( \\frac{2}{s^{2} + 4}, \\  0, \\  \\text{True}\\right)$"
          },
          "metadata": {},
          "execution_count": 13
        }
      ]
    },
    {
      "cell_type": "markdown",
      "source": [
        "## Ejercicio 6"
      ],
      "metadata": {
        "id": "QoWM7OtOee_L"
      }
    },
    {
      "cell_type": "code",
      "source": [
        "\n",
        "t = sp.symbols('t')\n",
        "s = sp.symbols('s')\n",
        "\n",
        "# Definimos la función f(t) = 1 + st\n",
        "f_t = 1 + s * t\n",
        "\n",
        "# Calculamos la transformada de Laplace\n",
        "L_f = sp.laplace_transform(f_t, t, s)\n",
        "\n",
        "# Mostramos el resultado\n",
        "L_f"
      ],
      "metadata": {
        "id": "MWApKD7OdnjC",
        "outputId": "cef86b92-3de6-402d-dbba-85888d68ad7d",
        "colab": {
          "base_uri": "https://localhost:8080/",
          "height": 58
        }
      },
      "execution_count": 12,
      "outputs": [
        {
          "output_type": "execute_result",
          "data": {
            "text/plain": [
              "⎛2         ⎞\n",
              "⎜─, 0, True⎟\n",
              "⎝s         ⎠"
            ],
            "text/latex": "$\\displaystyle \\left( \\frac{2}{s}, \\  0, \\  \\text{True}\\right)$"
          },
          "metadata": {},
          "execution_count": 12
        }
      ]
    },
    {
      "cell_type": "markdown",
      "source": [
        "## Ejercicio 7"
      ],
      "metadata": {
        "id": "-L6w9hwreip7"
      }
    },
    {
      "cell_type": "code",
      "source": [
        "\n",
        "t = sp.symbols('t')\n",
        "s = sp.symbols('s')\n",
        "\n",
        "# Definimos la función f(t) = 1 + 5t\n",
        "f_t = 1 + 5 * t\n",
        "\n",
        "# Calculamos la transformada de Laplace\n",
        "L_f = sp.laplace_transform(f_t, t, s)\n",
        "\n",
        "# Mostramos el resultado\n",
        "L_f"
      ],
      "metadata": {
        "id": "AJy5eke9dqSf",
        "outputId": "e1b8fe3f-e0fb-42f0-d1b0-50975630c17d",
        "colab": {
          "base_uri": "https://localhost:8080/",
          "height": 58
        }
      },
      "execution_count": 14,
      "outputs": [
        {
          "output_type": "execute_result",
          "data": {
            "text/plain": [
              "⎛1   5          ⎞\n",
              "⎜─ + ──, 0, True⎟\n",
              "⎜s    2         ⎟\n",
              "⎝    s          ⎠"
            ],
            "text/latex": "$\\displaystyle \\left( \\frac{1}{s} + \\frac{5}{s^{2}}, \\  0, \\  \\text{True}\\right)$"
          },
          "metadata": {},
          "execution_count": 14
        }
      ]
    },
    {
      "cell_type": "markdown",
      "source": [
        "## Ejercicio 8"
      ],
      "metadata": {
        "id": "Z9M8eyEGek_-"
      }
    },
    {
      "cell_type": "code",
      "source": [
        "\n",
        "t = sp.symbols('t')\n",
        "s = sp.symbols('s')\n",
        "\n",
        "# Definimos la función f(t) = 5 * e^(-3t) - 2 * sin(2t)\n",
        "f_t = 5 * sp.exp(-3 * t) - 2 * sp.sin(2 * t)\n",
        "\n",
        "# Calculamos la transformada de Laplace\n",
        "L_f = sp.laplace_transform(f_t, t, s)\n",
        "\n",
        "# Mostramos el resultado\n",
        "L_f"
      ],
      "metadata": {
        "id": "10ec43WZdvrc",
        "outputId": "2ba8ea13-99a7-4975-b7fc-8037d569ef10",
        "colab": {
          "base_uri": "https://localhost:8080/",
          "height": 58
        }
      },
      "execution_count": 15,
      "outputs": [
        {
          "output_type": "execute_result",
          "data": {
            "text/plain": [
              "⎛    4        5           ⎞\n",
              "⎜- ────── + ─────, 0, True⎟\n",
              "⎜   2       s + 3         ⎟\n",
              "⎝  s  + 4                 ⎠"
            ],
            "text/latex": "$\\displaystyle \\left( - \\frac{4}{s^{2} + 4} + \\frac{5}{s + 3}, \\  0, \\  \\text{True}\\right)$"
          },
          "metadata": {},
          "execution_count": 15
        }
      ]
    },
    {
      "cell_type": "markdown",
      "source": [
        "## Ejercicio 9"
      ],
      "metadata": {
        "id": "iMoh3A1AenPV"
      }
    },
    {
      "cell_type": "code",
      "source": [
        "\n",
        "t = sp.symbols('t')\n",
        "s = sp.symbols('s')\n",
        "\n",
        "# Definimos la función f(t) = t * cos(t)\n",
        "f_t = t * sp.cos(t)\n",
        "\n",
        "# Calculamos la transformada de Laplace\n",
        "L_f = sp.laplace_transform(f_t, t, s)\n",
        "\n",
        "# Mostramos el resultado\n",
        "L_f"
      ],
      "metadata": {
        "id": "Q3VpSP1_dyXJ",
        "outputId": "67f7b670-b5ec-4030-8bae-f0e16ab826b9",
        "colab": {
          "base_uri": "https://localhost:8080/",
          "height": 68
        }
      },
      "execution_count": 16,
      "outputs": [
        {
          "output_type": "execute_result",
          "data": {
            "text/plain": [
              "⎛    1            1              ⎞\n",
              "⎜────────── + ──────────, 0, True⎟\n",
              "⎜         2            2         ⎟\n",
              "⎝2⋅(s + ⅈ)    2⋅(s - ⅈ)          ⎠"
            ],
            "text/latex": "$\\displaystyle \\left( \\frac{1}{2 \\left(s + i\\right)^{2}} + \\frac{1}{2 \\left(s - i\\right)^{2}}, \\  0, \\  \\text{True}\\right)$"
          },
          "metadata": {},
          "execution_count": 16
        }
      ]
    },
    {
      "cell_type": "markdown",
      "source": [
        "## Ejercicio 10"
      ],
      "metadata": {
        "id": "5IipmId6epJb"
      }
    },
    {
      "cell_type": "code",
      "source": [
        "\n",
        "t = sp.symbols('t')\n",
        "s = sp.symbols('s')\n",
        "\n",
        "# Definimos la función f(t) = e^(-t) * sin(t)\n",
        "f_t = sp.exp(-t) * sp.sin(t)\n",
        "\n",
        "# Calculamos la transformada de Laplace\n",
        "L_f = sp.laplace_transform(f_t, t, s)\n",
        "\n",
        "# Mostramos el resultado\n",
        "L_f"
      ],
      "metadata": {
        "id": "HOp27uzFd0xm",
        "outputId": "2ba8ddb0-bce1-46f3-e818-e7941289e252",
        "colab": {
          "base_uri": "https://localhost:8080/",
          "height": 68
        }
      },
      "execution_count": 17,
      "outputs": [
        {
          "output_type": "execute_result",
          "data": {
            "text/plain": [
              "⎛     1                ⎞\n",
              "⎜────────────, -1, True⎟\n",
              "⎜       2              ⎟\n",
              "⎝(s + 1)  + 1          ⎠"
            ],
            "text/latex": "$\\displaystyle \\left( \\frac{1}{\\left(s + 1\\right)^{2} + 1}, \\  -1, \\  \\text{True}\\right)$"
          },
          "metadata": {},
          "execution_count": 17
        }
      ]
    },
    {
      "cell_type": "markdown",
      "source": [
        "## Ejercicio 11"
      ],
      "metadata": {
        "id": "Mvg0L49neqzw"
      }
    },
    {
      "cell_type": "code",
      "source": [
        "\n",
        "t = sp.symbols('t')\n",
        "s = sp.symbols('s')\n",
        "\n",
        "# Definimos la función f(t) = (1 + cos(2t)) / 2\n",
        "f_t = (1 + sp.cos(2 * t)) / 2\n",
        "\n",
        "# Calculamos la transformada de Laplace\n",
        "L_f = sp.laplace_transform(f_t, t, s)\n",
        "\n",
        "# Mostramos el resultado\n",
        "L_f"
      ],
      "metadata": {
        "id": "PcIoI983d3f5",
        "outputId": "b7efc8c1-e5c3-4292-fa9e-9143b6e1cb39",
        "colab": {
          "base_uri": "https://localhost:8080/",
          "height": 58
        }
      },
      "execution_count": 18,
      "outputs": [
        {
          "output_type": "execute_result",
          "data": {
            "text/plain": [
              "⎛    s         1          ⎞\n",
              "⎜────────── + ───, 0, True⎟\n",
              "⎜  ⎛ 2    ⎞   2⋅s         ⎟\n",
              "⎝2⋅⎝s  + 4⎠               ⎠"
            ],
            "text/latex": "$\\displaystyle \\left( \\frac{s}{2 \\left(s^{2} + 4\\right)} + \\frac{1}{2 s}, \\  0, \\  \\text{True}\\right)$"
          },
          "metadata": {},
          "execution_count": 18
        }
      ]
    },
    {
      "cell_type": "markdown",
      "source": [
        "## Ejercicio 12"
      ],
      "metadata": {
        "id": "jelRHXAuesJJ"
      }
    },
    {
      "cell_type": "code",
      "source": [
        "\n",
        "t = sp.symbols('t')\n",
        "s = sp.symbols('s')\n",
        "\n",
        "# Definimos la función f(t) = cos^2(t)\n",
        "f_t = sp.cos(t)**2\n",
        "\n",
        "# Calculamos la transformada de Laplace\n",
        "L_f = sp.laplace_transform(f_t, t, s)\n",
        "\n",
        "# Mostramos el resultado\n",
        "L_f"
      ],
      "metadata": {
        "id": "mU06N5Q_d58F",
        "outputId": "5ba5d27c-aa96-42ab-dd3d-2772eb6d2af0",
        "colab": {
          "base_uri": "https://localhost:8080/",
          "height": 58
        }
      },
      "execution_count": 19,
      "outputs": [
        {
          "output_type": "execute_result",
          "data": {
            "text/plain": [
              "⎛   2               ⎞\n",
              "⎜  s  + 2           ⎟\n",
              "⎜──────────, 0, True⎟\n",
              "⎜  ⎛ 2    ⎞         ⎟\n",
              "⎝s⋅⎝s  + 4⎠         ⎠"
            ],
            "text/latex": "$\\displaystyle \\left( \\frac{s^{2} + 2}{s \\left(s^{2} + 4\\right)}, \\  0, \\  \\text{True}\\right)$"
          },
          "metadata": {},
          "execution_count": 19
        }
      ]
    },
    {
      "cell_type": "code",
      "source": [
        "\n",
        "t = sp.symbols('t')\n",
        "s = sp.symbols('s')\n",
        "alpha = sp.symbols('alpha')\n",
        "\n",
        "# Definimos la función f(t) = t^2 * e^(alpha * t)\n",
        "f_t = t**2 * sp.exp(alpha * t)\n",
        "\n",
        "# Calculamos la transformada de Laplace\n",
        "L_f = sp.laplace_transform(f_t, t, s)\n",
        "\n",
        "# Mostramos el resultado\n",
        "L_f"
      ],
      "metadata": {
        "id": "g362QeXQeY5p",
        "outputId": "d725657e-a40f-4e13-cf22-e2616328ba60",
        "colab": {
          "base_uri": "https://localhost:8080/",
          "height": 68
        }
      },
      "execution_count": 20,
      "outputs": [
        {
          "output_type": "execute_result",
          "data": {
            "text/plain": [
              "⎛    2                 ⎞\n",
              "⎜─────────, re(α), True⎟\n",
              "⎜        3             ⎟\n",
              "⎝(-α + s)              ⎠"
            ],
            "text/latex": "$\\displaystyle \\left( \\frac{2}{\\left(- \\alpha + s\\right)^{3}}, \\  \\operatorname{re}{\\left(\\alpha\\right)}, \\  \\text{True}\\right)$"
          },
          "metadata": {},
          "execution_count": 20
        }
      ]
    },
    {
      "cell_type": "code",
      "source": [],
      "metadata": {
        "id": "8JS4-wfGebim"
      },
      "execution_count": null,
      "outputs": []
    }
  ],
  "metadata": {
    "kernelspec": {
      "display_name": "Python 3",
      "language": "python",
      "name": "python3"
    },
    "language_info": {
      "codemirror_mode": {
        "name": "ipython",
        "version": 3
      },
      "file_extension": ".py",
      "mimetype": "text/x-python",
      "name": "python",
      "nbconvert_exporter": "python",
      "pygments_lexer": "ipython3",
      "version": "3.7.1"
    },
    "colab": {
      "provenance": []
    }
  },
  "nbformat": 4,
  "nbformat_minor": 0
}